{
  "cells": [
    {
      "cell_type": "markdown",
      "metadata": {
        "id": "aK2t7aSWNojQ"
      },
      "source": [
        "# WARP-V: Open-Source CPU Generator"
      ]
    },
    {
      "cell_type": "markdown",
      "metadata": {
        "id": "view-in-github"
      },
      "source": [
        "<a href=\"https://colab.research.google.com/github/ALI11-2000/sscs-ose-code-a-chip/blob/main/docs/source/notebooks/warpv.ipynb\" target=\"_parent\"><img src=\"https://colab.research.google.com/assets/colab-badge.svg\" alt=\"Open In Colab\"/></a>"
      ]
    },
    {
      "cell_type": "markdown",
      "metadata": {
        "id": "xjDewsT5Y4lP"
      },
      "source": [
        "```\n",
        "SPDX-License-Identifier: Apache-2.0\n",
        "```"
      ]
    },
    {
      "cell_type": "markdown",
      "metadata": {
        "id": "qAMsCOCMVMSy"
      },
      "source": [
        "\n",
        "|Name|Affiliation|IEEE Member|SSCS Member|\n",
        "|:--:|:----------:|:----------:|:----------:|\n",
        "|Steeve Hoover|Redwood EDA|Yes|No|\n",
        "|Ali Imran <br /> Email ID: ali1120001@outlook.com|University of Engineering and Technology,Lahore|No|No|"
      ]
    },
    {
      "cell_type": "markdown",
      "metadata": {
        "id": "-Xp4cEjkeHIx"
      },
      "source": [
        "Welcome!\n",
        "This notebook serves as an introduction to WARP-V which is an open-source CPU generator written in TL-Verilog provided by Redwood EDA. It provides options for reconfigurable pipeline and also provides support for RISC-V and MIPS ISA. In this notebook, we are going to utilize different tools provided by the Redwood EDA to generate a simple RISC-V based core and then we will use the OpenLane flow to generate its ASIC. "
      ]
    }
  ],
  "metadata": {
    "colab": {
      "collapsed_sections": [],
      "provenance": []
    },
    "kernelspec": {
      "display_name": "Python 3.9.13 64-bit",
      "language": "python",
      "name": "python3"
    },
    "language_info": {
      "name": "python",
      "version": "3.9.13"
    },
    "vscode": {
      "interpreter": {
        "hash": "397704579725e15f5c7cb49fe5f0341eb7531c82d19f2c29d197e8b64ab5776b"
      }
    }
  },
  "nbformat": 4,
  "nbformat_minor": 0
}
